{
  "nbformat": 4,
  "nbformat_minor": 0,
  "metadata": {
    "colab": {
      "name": "Array2dADT_1310.ipynb",
      "provenance": [],
      "collapsed_sections": [],
      "authorship_tag": "ABX9TyNOHdZ5KWLic/+OeYerN6RB",
      "include_colab_link": true
    },
    "kernelspec": {
      "name": "python3",
      "display_name": "Python 3"
    },
    "language_info": {
      "name": "python"
    }
  },
  "cells": [
    {
      "cell_type": "markdown",
      "metadata": {
        "id": "view-in-github",
        "colab_type": "text"
      },
      "source": [
        "<a href=\"https://colab.research.google.com/github/GabydrielAraule/CLASE-19-10-21/blob/main/Array2dADT_1310.ipynb\" target=\"_parent\"><img src=\"https://colab.research.google.com/assets/colab-badge.svg\" alt=\"Open In Colab\"/></a>"
      ]
    },
    {
      "cell_type": "code",
      "metadata": {
        "id": "0ATVcGyQllCg"
      },
      "source": [
        "class Array2dADT:\n",
        "    def __init__( self, ren, col):\n",
        "        self.__pollo= [ [0 for y in range(col) ] for x in range(ren) ]\n",
        "        #print(self.__data)\n",
        "        #print(dir(self.__data))\n",
        "        #pollo = data\n",
        "    def clear(self, dato):\n",
        "                self.__pollo= [ [dato for y in range(self.get_col_size())] for x in range(self.get_row_size()) ]\n",
        "    \n",
        "    def get_row_size(self):\n",
        "        return len( self.__pollo )\n",
        "\n",
        "    def get_col_size(self):\n",
        "        return len( self.__pollo[0] )    \n",
        "\n",
        "    def set_item(self , ren, col, dato):\n",
        "        self.__pollo[ren][col] = dato\n",
        "\n",
        "    def get_item( self, ren, col):\n",
        "        return self.__pollo[ren][col]\n",
        "\n",
        "    def to_string(self):\n",
        "        cadena = \"\"\n",
        "        for renglon in self.__pollo:\n",
        "            cadena = cadena + \"|\"\n",
        "            for dato in renglon:\n",
        "                #cadena.append(dato)\n",
        "                cadena = cadena + str(dato) + \" | \"\n",
        "            cadena = cadena + \"\\n\"\n",
        "        return cadena\n"
      ],
      "execution_count": 1,
      "outputs": []
    },
    {
      "cell_type": "code",
      "metadata": {
        "colab": {
          "base_uri": "https://localhost:8080/"
        },
        "id": "meChCgn0odH0",
        "outputId": "07a05177-8d86-4ee8-dedf-847165bc8121"
      },
      "source": [
        "a2d = Array2dADT( 3 , 6)\n",
        "print(f\"Ren: {a2d.get_row_size()}\")\n",
        "\n",
        "print(f\"Ren: {a2d.get_col_size()}\")\n",
        "print(a2d.to_string())\n",
        "print(\"\")\n",
        "a2d.clear(\"M\")\n",
        "print(a2d.to_string())\n",
        "\n",
        "a2d.set_item(2,3,'p')\n",
        "print(a2d.to_string())\n",
        "print(a2d.get_item(2,3))"
      ],
      "execution_count": null,
      "outputs": [
        {
          "output_type": "stream",
          "name": "stdout",
          "text": [
            "Ren: 3\n",
            "Ren: 6\n",
            "|0 | 0 | 0 | 0 | 0 | 0 | \n",
            "|0 | 0 | 0 | 0 | 0 | 0 | \n",
            "|0 | 0 | 0 | 0 | 0 | 0 | \n",
            "\n",
            "\n",
            "|M | M | M | M | M | M | \n",
            "|M | M | M | M | M | M | \n",
            "|M | M | M | M | M | M | \n",
            "\n",
            "|M | M | M | M | M | M | \n",
            "|M | M | M | M | M | M | \n",
            "|M | M | M | p | M | M | \n",
            "\n",
            "p\n"
          ]
        }
      ]
    },
    {
      "cell_type": "code",
      "metadata": {
        "colab": {
          "base_uri": "https://localhost:8080/"
        },
        "id": "a5uJ8qI4qudG",
        "outputId": "876b988c-fb27-48ff-b31f-c0e1040018a8"
      },
      "source": [
        "dir(list)"
      ],
      "execution_count": null,
      "outputs": [
        {
          "output_type": "execute_result",
          "data": {
            "text/plain": [
              "['__add__',\n",
              " '__class__',\n",
              " '__contains__',\n",
              " '__delattr__',\n",
              " '__delitem__',\n",
              " '__dir__',\n",
              " '__doc__',\n",
              " '__eq__',\n",
              " '__format__',\n",
              " '__ge__',\n",
              " '__getattribute__',\n",
              " '__getitem__',\n",
              " '__gt__',\n",
              " '__hash__',\n",
              " '__iadd__',\n",
              " '__imul__',\n",
              " '__init__',\n",
              " '__init_subclass__',\n",
              " '__iter__',\n",
              " '__le__',\n",
              " '__len__',\n",
              " '__lt__',\n",
              " '__mul__',\n",
              " '__ne__',\n",
              " '__new__',\n",
              " '__reduce__',\n",
              " '__reduce_ex__',\n",
              " '__repr__',\n",
              " '__reversed__',\n",
              " '__rmul__',\n",
              " '__setattr__',\n",
              " '__setitem__',\n",
              " '__sizeof__',\n",
              " '__str__',\n",
              " '__subclasshook__',\n",
              " 'append',\n",
              " 'clear',\n",
              " 'copy',\n",
              " 'count',\n",
              " 'extend',\n",
              " 'index',\n",
              " 'insert',\n",
              " 'pop',\n",
              " 'remove',\n",
              " 'reverse',\n",
              " 'sort']"
            ]
          },
          "metadata": {},
          "execution_count": 8
        }
      ]
    },
    {
      "cell_type": "code",
      "metadata": {
        "id": "vVNZlc9O4AIW"
      },
      "source": [
        "\n",
        "\"\"\"\n",
        "los datos iniciales como lo son:\n",
        "        1- tamaño de la poblacion(ren y col)\n",
        "        2- poblacion inicial\n",
        "        3- el numero d generaciones a simular estaran proporcionadas por un archivo de entrada separado por \",\"(csv)\n",
        "     5\n",
        "     5\n",
        "     0,0,0,0,0\n",
        "     0,0,1,0,0\n",
        "     0,1,1,1,0\n",
        "     0,0,0,0,0\n",
        "     0,0,0,0,0   \n",
        "     10   \n",
        "        \n",
        "        \n",
        "        \"\"\"\n",
        "class JuegoDeLaVida:\n",
        "    def __init__( self, ruta_archivo ):\n",
        "        \n",
        "        self.rens = None\n",
        "        self.cols = None\n",
        "        self.tablero  = None\n",
        "        self.generaciones = None\n",
        "        self.read_game_data( ruta_archivo)\n",
        "\n",
        "    def read_game_data(self, archivo):\n",
        "        archivo = open(archivo, 'rt')\n",
        "        lineas = archivo.readlines()\n",
        "        for index in range(len(lineas)):\n",
        "            lineas[index] = lineas[index].strip()\n",
        "        #print(lineas)\n",
        "        self.rens = int(lineas[0])\n",
        "        self.cols = int(lineas[1])\n",
        "        self.tablero = Array2dADT( self.rens, self.cols)\n",
        "\n",
        "        r=0\n",
        "        c=0\n",
        "        print(lineas)\n",
        "\n",
        "        for index in range( 2 , 2 + self.rens , 1):\n",
        "            c=0\n",
        "            for dato in lineas[index].split(','):\n",
        "                #print(dato)\n",
        "                self.tablero.set_item(r , c , int(dato) )\n",
        "                c += 1\n",
        "            r += 1\n",
        "\n",
        "        self.generaciones = int(lineas[ - 1 ] )\n",
        "        print(\"Gens:\", self.generaciones)\n",
        "        \n",
        "        \n",
        "        print(self.tablero.to_string())\n",
        "    \n",
        "    def get_vecinos( self, r , c):\n",
        "        vecinos = []\n",
        "        for ren in range( r-1, r+2, 1):\n",
        "            for col in range( c-1, c+2, 1 ):\n",
        "                if ren < 0 or ren >= self.tablero.get_row_size() or col < 0 or col >= self.tablero.get_col_size() or (ren ==r and col ==c):\n",
        "                    pass\n",
        "                else:\n",
        "                    vecinos.append((ren,col))\n",
        "        return vecinos\n",
        "\n",
        "\n",
        "    def get_vecinos_vivos( self, r,c):\n",
        "        vecinos = self.get_vecinos(r,c)\n",
        "        vivos= 0\n",
        "        for par in vecinos:\n",
        "            if self.tablero.get_item( par[0] , par[1]) ==1:\n",
        "                vivos +=1\n",
        "        return vivos\n",
        "\n",
        "    def calcular_siguiente(self):\n",
        "        nueva_gen = Array2dADT( self.rens , self.cols)\n",
        "        #Aplicar 4 reglas a cada celua y el resultado ponerlo en nueva generacion\n",
        "        for ren in range( self.rens):\n",
        "            for col in range( self.cols):\n",
        "                print(f\"{ren},{col}--> {self.get_vecinos_vivos(ren,col)}\")\n",
        "\n",
        "        self.tablero = nueva_gen"
      ],
      "execution_count": 53,
      "outputs": []
    },
    {
      "cell_type": "code",
      "metadata": {
        "colab": {
          "base_uri": "https://localhost:8080/"
        },
        "id": "ZCg_PYru6VRL",
        "outputId": "3ffd7a2e-c485-4a4b-93f2-8da5d55d6456"
      },
      "source": [
        "juego = JuegoDeLaVida(\"entrada.txt\")\n",
        "print(juego.get_vecinos_vivos( 1,2))\n",
        "juego.calcular_siguiente()"
      ],
      "execution_count": 54,
      "outputs": [
        {
          "output_type": "stream",
          "name": "stdout",
          "text": [
            "['5', '5', '0,0,0,0,0', '0,0,1,0,0', '0,1,1,1,0', '0,0,0,0,0', '0,0,0,0,0', '10']\n",
            "Gens: 10\n",
            "|0 | 0 | 0 | 0 | 0 | \n",
            "|0 | 0 | 1 | 0 | 0 | \n",
            "|0 | 1 | 1 | 1 | 0 | \n",
            "|0 | 0 | 0 | 0 | 0 | \n",
            "|0 | 0 | 0 | 0 | 0 | \n",
            "\n",
            "3\n",
            "0,0--> 0\n",
            "0,1--> 1\n",
            "0,2--> 1\n",
            "0,3--> 1\n",
            "0,4--> 0\n",
            "1,0--> 1\n",
            "1,1--> 3\n",
            "1,2--> 3\n",
            "1,3--> 3\n",
            "1,4--> 1\n",
            "2,0--> 1\n",
            "2,1--> 2\n",
            "2,2--> 3\n",
            "2,3--> 2\n",
            "2,4--> 1\n",
            "3,0--> 1\n",
            "3,1--> 2\n",
            "3,2--> 3\n",
            "3,3--> 2\n",
            "3,4--> 1\n",
            "4,0--> 0\n",
            "4,1--> 0\n",
            "4,2--> 0\n",
            "4,3--> 0\n",
            "4,4--> 0\n"
          ]
        }
      ]
    },
    {
      "cell_type": "code",
      "metadata": {
        "colab": {
          "base_uri": "https://localhost:8080/"
        },
        "id": "m5yW76CI56C7",
        "outputId": "2149c7e3-2fe9-4b9e-84cb-968f36e86ee6"
      },
      "source": [
        "!cat ej.txt\n",
        "#! echo \"5\" > ejemplo.csv"
      ],
      "execution_count": null,
      "outputs": [
        {
          "output_type": "stream",
          "name": "stdout",
          "text": [
            "5\r\n",
            "5\r\n",
            "0,0,0,0,0\r\n",
            "0,0,1,0,0\r\n",
            "0,1,1,1,0\r\n",
            "0,0,0,0,0\r\n",
            "0,0,0,0,0   \r\n",
            "10   "
          ]
        }
      ]
    }
  ]
}